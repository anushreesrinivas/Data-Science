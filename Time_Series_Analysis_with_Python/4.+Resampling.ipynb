{
 "cells": [
  {
   "cell_type": "code",
   "execution_count": 1,
   "metadata": {
    "collapsed": true
   },
   "outputs": [],
   "source": [
    "import pandas as pd\n",
    "import numpy as np"
   ]
  },
  {
   "cell_type": "code",
   "execution_count": 7,
   "metadata": {
    "collapsed": false
   },
   "outputs": [
    {
     "data": {
      "text/plain": [
       "2011-01-01 00:00:00    0.685287\n",
       "2011-01-01 01:00:00    0.207073\n",
       "2011-01-01 02:00:00    0.873620\n",
       "2011-01-01 03:00:00    0.889102\n",
       "2011-01-01 04:00:00   -0.344895\n",
       "Freq: H, dtype: float64"
      ]
     },
     "execution_count": 7,
     "metadata": {},
     "output_type": "execute_result"
    }
   ],
   "source": [
    "rng = pd.date_range('1/1/2011', periods=72, freq='H')\n",
    "ts = pd.Series(np.random.randn(len(rng)), index=rng)\n",
    "ts.head()"
   ]
  },
  {
   "cell_type": "code",
   "execution_count": 8,
   "metadata": {
    "collapsed": false
   },
   "outputs": [
    {
     "data": {
      "text/plain": [
       "2011-01-01 00:00:00    0.685287\n",
       "2011-01-01 00:45:00    0.685287\n",
       "2011-01-01 01:30:00    0.207073\n",
       "2011-01-01 02:15:00    0.873620\n",
       "2011-01-01 03:00:00    0.889102\n",
       "Freq: 45T, dtype: float64"
      ]
     },
     "execution_count": 8,
     "metadata": {},
     "output_type": "execute_result"
    }
   ],
   "source": [
    "converted = ts.asfreq('45Min', method='pad')\n",
    "converted.head()"
   ]
  },
  {
   "cell_type": "markdown",
   "metadata": {
    "collapsed": true
   },
   "source": [
    "Does asfreq change the of rows? \n",
    "Yes, it gives more rows "
   ]
  },
  {
   "cell_type": "markdown",
   "metadata": {
    "collapsed": false
   },
   "source": [
    "What do the different methods do?\n",
    "method : {‘backfill’, ‘bfill’, ‘pad’, ‘ffill’, None} \n",
    "ffill or pad will use the previous cell's data to fill the values\n",
    "bfill or backfill will use the next cell's data to fill the values\n",
    "Padfill is more common since you'll always know the last known value.\n",
    "None will give you a NaN where there is no data"
   ]
  },
  {
   "cell_type": "markdown",
   "metadata": {
    "collapsed": false
   },
   "source": [
    "Might any of these methods have pitfalls from a logical point of view?\n",
    "Since you are extrapolating or interapolating, the values might not be very accurate."
   ]
  },
  {
   "cell_type": "markdown",
   "metadata": {
    "collapsed": true
   },
   "source": [
    "What's the difference between going to a higher frequency and a lower frequency?\n",
    "Your rows reduce or increase depending on the frequency you are and want to go to"
   ]
  },
  {
   "cell_type": "code",
   "execution_count": null,
   "metadata": {
    "collapsed": true
   },
   "outputs": [],
   "source": [
    "converted = ts.asfreq('90Min', method = 'bfill')"
   ]
  },
  {
   "cell_type": "markdown",
   "metadata": {
    "collapsed": true
   },
   "source": [
    "What's different logically about going to a higher frequency vs a lower frequency? \n",
    "What do you want to do when switching to a lower freqeuncy that is not logical when switching to a higher frequency?\n",
    "When you go to a higher frequency you'll have less data vs when you're at a low frequency.\n",
    "\n",
    "When your up sampling or going to a higher frequency you'll want to interapolate.\n"
   ]
  },
  {
   "cell_type": "code",
   "execution_count": 10,
   "metadata": {
    "collapsed": false
   },
   "outputs": [
    {
     "data": {
      "text/plain": [
       "2011-01-01    8.389303\n",
       "2011-01-02    3.840526\n",
       "2011-01-03    5.652415\n",
       "Freq: D, dtype: float64"
      ]
     },
     "execution_count": 10,
     "metadata": {},
     "output_type": "execute_result"
    }
   ],
   "source": [
    "ts.resample('D').sum()"
   ]
  },
  {
   "cell_type": "code",
   "execution_count": 12,
   "metadata": {
    "collapsed": false
   },
   "outputs": [
    {
     "data": {
      "text/plain": [
       "2011-01-01 02:00:00    0.881361\n",
       "2011-01-01 04:00:00   -0.550258\n",
       "2011-01-01 06:00:00    0.270270\n",
       "2011-01-01 08:00:00    0.708023\n",
       "2011-01-01 10:00:00   -0.570445\n",
       "2011-01-01 12:00:00    0.960150\n",
       "2011-01-01 14:00:00   -0.151540\n",
       "2011-01-01 16:00:00   -0.142866\n",
       "2011-01-01 18:00:00    1.260733\n",
       "Freq: 2H, dtype: float64"
      ]
     },
     "execution_count": 12,
     "metadata": {},
     "output_type": "execute_result"
    }
   ],
   "source": [
    "ts.resample('2H').mean()[1:10]"
   ]
  },
  {
   "cell_type": "markdown",
   "metadata": {},
   "source": [
    "What if you want to downsample and you don't want to ffill or bfill?\n",
    "You make the method none when you want to use either ffill or bfill"
   ]
  },
  {
   "cell_type": "markdown",
   "metadata": {
    "collapsed": true
   },
   "source": [
    "What is the difference between .resample() and .asfreq()?\n",
    "Resampling is almost like an object in which you can take aggregate,quantile etc. Resample() is more general than asfreq()"
   ]
  },
  {
   "cell_type": "markdown",
   "metadata": {
    "collapsed": true
   },
   "source": [
    "What are some special things you can do with .resample() you can't do with .asfreq()?\n",
    "mean(), aggregate(), sum() are some of the special things you can do with resample() which we can't do with .asfreq()\n"
   ]
  }
 ],
 "metadata": {
  "kernelspec": {
   "display_name": "Python 3",
   "language": "python",
   "name": "python3"
  },
  "language_info": {
   "codemirror_mode": {
    "name": "ipython",
    "version": 3
   },
   "file_extension": ".py",
   "mimetype": "text/x-python",
   "name": "python",
   "nbconvert_exporter": "python",
   "pygments_lexer": "ipython3",
   "version": "3.6.1"
  }
 },
 "nbformat": 4,
 "nbformat_minor": 0
}
