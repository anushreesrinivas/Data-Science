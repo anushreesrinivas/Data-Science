{
 "cells": [
  {
   "cell_type": "code",
   "execution_count": 2,
   "metadata": {
    "collapsed": false
   },
   "outputs": [],
   "source": [
    "import pandas as pd\n",
    "import json\n",
    "from pandas.io.json import json_normalize \n",
    "import numpy as np\n",
    "import matplotlib.pyplot as plt\n",
    "%matplotlib inline\n",
    "import re"
   ]
  },
  {
   "cell_type": "code",
   "execution_count": 3,
   "metadata": {
    "collapsed": false
   },
   "outputs": [],
   "source": [
    "file = open(\"/Users/Anushree/Desktop/Springboard/Take home challenge 2/amazon-meta.txt\", \"r\")\n",
    "file_list = file.read().split('\\n\\n')"
   ]
  },
  {
   "cell_type": "code",
   "execution_count": 4,
   "metadata": {
    "collapsed": false
   },
   "outputs": [
    {
     "data": {
      "text/plain": [
       "['Id:   0', 'ASIN: 0771044445', '  discontinued product']"
      ]
     },
     "execution_count": 4,
     "metadata": {},
     "output_type": "execute_result"
    }
   ],
   "source": [
    "file_list[1].split('\\n')"
   ]
  },
  {
   "cell_type": "code",
   "execution_count": 5,
   "metadata": {
    "collapsed": false
   },
   "outputs": [
    {
     "data": {
      "text/plain": [
       "['Id:   1',\n",
       " 'ASIN: 0827229534',\n",
       " '  title: Patterns of Preaching: A Sermon Sampler',\n",
       " '  group: Book',\n",
       " '  salesrank: 396585',\n",
       " '  similar: 5  0804215715  156101074X  0687023955  0687074231  082721619X',\n",
       " '  categories: 2',\n",
       " '   |Books[283155]|Subjects[1000]|Religion & Spirituality[22]|Christianity[12290]|Clergy[12360]|Preaching[12368]',\n",
       " '   |Books[283155]|Subjects[1000]|Religion & Spirituality[22]|Christianity[12290]|Clergy[12360]|Sermons[12370]',\n",
       " '  reviews: total: 2  downloaded: 2  avg rating: 5',\n",
       " '    2000-7-28  cutomer: A2JW67OY8U6HHK  rating: 5  votes:  10  helpful:   9',\n",
       " '    2003-12-14  cutomer: A2VE83MZF98ITY  rating: 5  votes:   6  helpful:   5']"
      ]
     },
     "execution_count": 5,
     "metadata": {},
     "output_type": "execute_result"
    }
   ],
   "source": [
    "file_list[2].split('\\n')"
   ]
  },
  {
   "cell_type": "code",
   "execution_count": 6,
   "metadata": {
    "collapsed": false
   },
   "outputs": [
    {
     "data": {
      "text/plain": [
       "{'categories': [{'category': '|Books[283155]|Subjects[1000]|Religion&Spirituality[22]|Christianity[12290]|Clergy[12360]|Preaching[12368]'}]}"
      ]
     },
     "execution_count": 6,
     "metadata": {},
     "output_type": "execute_result"
    }
   ],
   "source": [
    "d= {}\n",
    "d['categories'] = []\n",
    "l = '   |Books[283155]|Subjects[1000]|Religion & Spirituality[22]|Christianity[12290]|Clergy[12360]|Preaching[12368]'\n",
    "items = l.split(\":\")\n",
    "key = re.sub(pattern=' ',repl= '',string=items[0]) \n",
    "key\n",
    "d['categories'].append({'category': key})\n",
    "d"
   ]
  },
  {
   "cell_type": "code",
   "execution_count": 7,
   "metadata": {
    "collapsed": false
   },
   "outputs": [
    {
     "data": {
      "text/plain": [
       "{'ASIN': ' 0827229534',\n",
       " 'Id': '   1',\n",
       " 'cat_entries': [{'category': '|Books[283155]|Subjects[1000]|Religion&Spirituality[22]|Christianity[12290]|Clergy[12360]|Preaching[12368]'},\n",
       "  {'category': '|Books[283155]|Subjects[1000]|Religion&Spirituality[22]|Christianity[12290]|Clergy[12360]|Sermons[12370]'}],\n",
       " 'categories': ' 2',\n",
       " 'group': ' Book',\n",
       " 'individuals': [{'cutomer': ' A2JW67OY8U6HHK',\n",
       "   'date': '    2000-7-28',\n",
       "   'helpful': '   9',\n",
       "   'rating': ' 5',\n",
       "   'votes': '  10'},\n",
       "  {'cutomer': ' A2VE83MZF98ITY',\n",
       "   'date': '    2003-12-14',\n",
       "   'helpful': '   5',\n",
       "   'rating': ' 5',\n",
       "   'votes': '   6'}],\n",
       " 'reviews': {'downloaded': ' 2', 'rating': ' 5', 'total': ' 2'},\n",
       " 'salesrank': ' 396585',\n",
       " 'similar': ' 5  0804215715  156101074X  0687023955  0687074231  082721619X',\n",
       " 'title': ' Patterns of Preaching: A Sermon Sampler'}"
      ]
     },
     "execution_count": 7,
     "metadata": {},
     "output_type": "execute_result"
    }
   ],
   "source": [
    "def get_dict(list_lines, splits ):\n",
    "    d = {}\n",
    "    if len(list_lines) > 8: \n",
    "        d['individuals'] = []\n",
    "        d['cat_entries'] = []\n",
    "        \n",
    "    for i in range(len(list_lines)):\n",
    "        line = list_lines[i]\n",
    "        items = line.split(splits)\n",
    "        \n",
    "        \n",
    "        key = re.sub(pattern=' ',repl= '',string=items[0]) \n",
    "        \n",
    "        if '|' in items[0][:10]: \n",
    "            d['cat_entries'].append({'category': key})  \n",
    "            \n",
    "        elif len(items) < 4:\n",
    "            value = ':'.join(items[1:])\n",
    "            d[key] = value\n",
    "        else:\n",
    "            # put the items back to its original form\n",
    "            temp_value = ':'.join(items[1:])\n",
    "            \n",
    "            if key[-5:]== 'tomer':\n",
    "                temp_value = 'date:' + ':'.join(items) \n",
    "                #key = 'individuals:' # master layer to all the inidividual reviews\n",
    "\n",
    "            nest_dict = get_dict(re.findall(r\"\\w+:\\s+\\S+\", temp_value), ':')\n",
    "            if key[-5:]== 'tomer':\n",
    "                d['individuals'].append(nest_dict) # nested reviews\n",
    "            else: \n",
    "                d[key] = nest_dict \n",
    "    return d\n",
    "get_dict(file_list[2].split('\\n'), ':')"
   ]
  },
  {
   "cell_type": "code",
   "execution_count": 8,
   "metadata": {
    "collapsed": false
   },
   "outputs": [],
   "source": [
    "dict_all = [get_dict(l.split('\\n'), ':') for l in file_list if len(l.split('\\n')) > 8]"
   ]
  },
  {
   "cell_type": "code",
   "execution_count": 9,
   "metadata": {
    "collapsed": false
   },
   "outputs": [
    {
     "data": {
      "text/plain": [
       "dict_keys(['individuals', 'cat_entries', 'Id', 'ASIN', 'title', 'group', 'salesrank', 'similar', 'categories', 'reviews'])"
      ]
     },
     "execution_count": 9,
     "metadata": {},
     "output_type": "execute_result"
    }
   ],
   "source": [
    "dict_all[2].keys()"
   ]
  },
  {
   "cell_type": "code",
   "execution_count": 10,
   "metadata": {
    "collapsed": true
   },
   "outputs": [],
   "source": [
    "with open('meta-data.json', 'w') as outfile:\n",
    "\n",
    "    json.dump([dict(k) for k in dict_all],outfile)"
   ]
  },
  {
   "cell_type": "code",
   "execution_count": 11,
   "metadata": {
    "collapsed": false
   },
   "outputs": [],
   "source": [
    "data = json_normalize(dict_all, 'individuals', \n",
    "                          ['Id','ASIN','title','group','categories','salesrank','similar',['reviews','total']])"
   ]
  },
  {
   "cell_type": "code",
   "execution_count": 12,
   "metadata": {
    "collapsed": false
   },
   "outputs": [
    {
     "data": {
      "text/html": [
       "<div>\n",
       "<style>\n",
       "    .dataframe thead tr:only-child th {\n",
       "        text-align: right;\n",
       "    }\n",
       "\n",
       "    .dataframe thead th {\n",
       "        text-align: left;\n",
       "    }\n",
       "\n",
       "    .dataframe tbody tr th {\n",
       "        vertical-align: top;\n",
       "    }\n",
       "</style>\n",
       "<table border=\"1\" class=\"dataframe\">\n",
       "  <thead>\n",
       "    <tr style=\"text-align: right;\">\n",
       "      <th></th>\n",
       "      <th>cutomer</th>\n",
       "      <th>date</th>\n",
       "      <th>helpful</th>\n",
       "      <th>rating</th>\n",
       "      <th>votes</th>\n",
       "      <th>Id</th>\n",
       "      <th>ASIN</th>\n",
       "      <th>title</th>\n",
       "      <th>group</th>\n",
       "      <th>categories</th>\n",
       "      <th>salesrank</th>\n",
       "      <th>similar</th>\n",
       "      <th>reviews.total</th>\n",
       "    </tr>\n",
       "  </thead>\n",
       "  <tbody>\n",
       "    <tr>\n",
       "      <th>0</th>\n",
       "      <td>A2JW67OY8U6HHK</td>\n",
       "      <td>2000-7-28</td>\n",
       "      <td>9</td>\n",
       "      <td>5</td>\n",
       "      <td>10</td>\n",
       "      <td>1</td>\n",
       "      <td>0827229534</td>\n",
       "      <td>Patterns of Preaching: A Sermon Sampler</td>\n",
       "      <td>Book</td>\n",
       "      <td>2</td>\n",
       "      <td>396585</td>\n",
       "      <td>5  0804215715  156101074X  0687023955  068707...</td>\n",
       "      <td>2</td>\n",
       "    </tr>\n",
       "    <tr>\n",
       "      <th>1</th>\n",
       "      <td>A2VE83MZF98ITY</td>\n",
       "      <td>2003-12-14</td>\n",
       "      <td>5</td>\n",
       "      <td>5</td>\n",
       "      <td>6</td>\n",
       "      <td>1</td>\n",
       "      <td>0827229534</td>\n",
       "      <td>Patterns of Preaching: A Sermon Sampler</td>\n",
       "      <td>Book</td>\n",
       "      <td>2</td>\n",
       "      <td>396585</td>\n",
       "      <td>5  0804215715  156101074X  0687023955  068707...</td>\n",
       "      <td>2</td>\n",
       "    </tr>\n",
       "    <tr>\n",
       "      <th>2</th>\n",
       "      <td>A11NCO6YTE4BTJ</td>\n",
       "      <td>2001-12-16</td>\n",
       "      <td>4</td>\n",
       "      <td>5</td>\n",
       "      <td>5</td>\n",
       "      <td>2</td>\n",
       "      <td>0738700797</td>\n",
       "      <td>Candlemas: Feast of Flames</td>\n",
       "      <td>Book</td>\n",
       "      <td>2</td>\n",
       "      <td>168596</td>\n",
       "      <td>5  0738700827  1567184960  1567182836  073870...</td>\n",
       "      <td>12</td>\n",
       "    </tr>\n",
       "    <tr>\n",
       "      <th>3</th>\n",
       "      <td>A9CQ3PLRNIR83</td>\n",
       "      <td>2002-1-7</td>\n",
       "      <td>5</td>\n",
       "      <td>4</td>\n",
       "      <td>5</td>\n",
       "      <td>2</td>\n",
       "      <td>0738700797</td>\n",
       "      <td>Candlemas: Feast of Flames</td>\n",
       "      <td>Book</td>\n",
       "      <td>2</td>\n",
       "      <td>168596</td>\n",
       "      <td>5  0738700827  1567184960  1567182836  073870...</td>\n",
       "      <td>12</td>\n",
       "    </tr>\n",
       "    <tr>\n",
       "      <th>4</th>\n",
       "      <td>A13SG9ACZ9O5IM</td>\n",
       "      <td>2002-1-24</td>\n",
       "      <td>8</td>\n",
       "      <td>5</td>\n",
       "      <td>8</td>\n",
       "      <td>2</td>\n",
       "      <td>0738700797</td>\n",
       "      <td>Candlemas: Feast of Flames</td>\n",
       "      <td>Book</td>\n",
       "      <td>2</td>\n",
       "      <td>168596</td>\n",
       "      <td>5  0738700827  1567184960  1567182836  073870...</td>\n",
       "      <td>12</td>\n",
       "    </tr>\n",
       "  </tbody>\n",
       "</table>\n",
       "</div>"
      ],
      "text/plain": [
       "           cutomer            date helpful rating votes    Id         ASIN  \\\n",
       "0   A2JW67OY8U6HHK       2000-7-28       9      5    10     1   0827229534   \n",
       "1   A2VE83MZF98ITY      2003-12-14       5      5     6     1   0827229534   \n",
       "2   A11NCO6YTE4BTJ      2001-12-16       4      5     5     2   0738700797   \n",
       "3    A9CQ3PLRNIR83        2002-1-7       5      4     5     2   0738700797   \n",
       "4   A13SG9ACZ9O5IM       2002-1-24       8      5     8     2   0738700797   \n",
       "\n",
       "                                      title  group categories salesrank  \\\n",
       "0   Patterns of Preaching: A Sermon Sampler   Book          2    396585   \n",
       "1   Patterns of Preaching: A Sermon Sampler   Book          2    396585   \n",
       "2                Candlemas: Feast of Flames   Book          2    168596   \n",
       "3                Candlemas: Feast of Flames   Book          2    168596   \n",
       "4                Candlemas: Feast of Flames   Book          2    168596   \n",
       "\n",
       "                                             similar reviews.total  \n",
       "0   5  0804215715  156101074X  0687023955  068707...             2  \n",
       "1   5  0804215715  156101074X  0687023955  068707...             2  \n",
       "2   5  0738700827  1567184960  1567182836  073870...            12  \n",
       "3   5  0738700827  1567184960  1567182836  073870...            12  \n",
       "4   5  0738700827  1567184960  1567182836  073870...            12  "
      ]
     },
     "execution_count": 12,
     "metadata": {},
     "output_type": "execute_result"
    }
   ],
   "source": [
    "data.head()"
   ]
  },
  {
   "cell_type": "code",
   "execution_count": null,
   "metadata": {
    "collapsed": true
   },
   "outputs": [],
   "source": [
    "data.to_csv('meta-data_raw.csv')"
   ]
  },
  {
   "cell_type": "code",
   "execution_count": 13,
   "metadata": {
    "collapsed": true
   },
   "outputs": [],
   "source": [
    "data.rating = data.rating.astype(int)\n",
    "data.salesrank = data.salesrank.astype(int)"
   ]
  },
  {
   "cell_type": "code",
   "execution_count": 14,
   "metadata": {
    "collapsed": true
   },
   "outputs": [],
   "source": [
    "avg_rating = data.groupby('ASIN', as_index=False)[['rating', 'salesrank']].aggregate(np.mean)"
   ]
  },
  {
   "cell_type": "code",
   "execution_count": 15,
   "metadata": {
    "collapsed": false
   },
   "outputs": [
    {
     "data": {
      "text/html": [
       "<div>\n",
       "<style>\n",
       "    .dataframe thead tr:only-child th {\n",
       "        text-align: right;\n",
       "    }\n",
       "\n",
       "    .dataframe thead th {\n",
       "        text-align: left;\n",
       "    }\n",
       "\n",
       "    .dataframe tbody tr th {\n",
       "        vertical-align: top;\n",
       "    }\n",
       "</style>\n",
       "<table border=\"1\" class=\"dataframe\">\n",
       "  <thead>\n",
       "    <tr style=\"text-align: right;\">\n",
       "      <th></th>\n",
       "      <th>ASIN</th>\n",
       "      <th>rating</th>\n",
       "      <th>salesrank</th>\n",
       "    </tr>\n",
       "  </thead>\n",
       "  <tbody>\n",
       "    <tr>\n",
       "      <th>0</th>\n",
       "      <td>0001047655</td>\n",
       "      <td>3.766667</td>\n",
       "      <td>1116690.0</td>\n",
       "    </tr>\n",
       "    <tr>\n",
       "      <th>1</th>\n",
       "      <td>0001053736</td>\n",
       "      <td>4.600000</td>\n",
       "      <td>53150.0</td>\n",
       "    </tr>\n",
       "    <tr>\n",
       "      <th>2</th>\n",
       "      <td>0001053744</td>\n",
       "      <td>5.000000</td>\n",
       "      <td>500890.0</td>\n",
       "    </tr>\n",
       "    <tr>\n",
       "      <th>3</th>\n",
       "      <td>0001054600</td>\n",
       "      <td>4.159574</td>\n",
       "      <td>2449141.0</td>\n",
       "    </tr>\n",
       "    <tr>\n",
       "      <th>4</th>\n",
       "      <td>0001057170</td>\n",
       "      <td>3.500000</td>\n",
       "      <td>708137.0</td>\n",
       "    </tr>\n",
       "  </tbody>\n",
       "</table>\n",
       "</div>"
      ],
      "text/plain": [
       "          ASIN    rating  salesrank\n",
       "0   0001047655  3.766667  1116690.0\n",
       "1   0001053736  4.600000    53150.0\n",
       "2   0001053744  5.000000   500890.0\n",
       "3   0001054600  4.159574  2449141.0\n",
       "4   0001057170  3.500000   708137.0"
      ]
     },
     "execution_count": 15,
     "metadata": {},
     "output_type": "execute_result"
    }
   ],
   "source": [
    "avg_rating.head()"
   ]
  },
  {
   "cell_type": "code",
   "execution_count": 19,
   "metadata": {
    "collapsed": false
   },
   "outputs": [
    {
     "data": {
      "image/png": "[encoded data removed]",
      "text/plain": [
       "<matplotlib.figure.Figure at 0x31bf489b0>"
      ]
     },
     "metadata": {},
     "output_type": "display_data"
    }
   ],
   "source": [
    "plt.figure(figsize=(12,8))\n",
    "plt.scatter(avg_rating.rating, avg_rating.salesrank)\n",
    "plt.xlabel('Average rating per product')\n",
    "plt.ylabel('Sales ranking')\n",
    "plt.show()"
   ]
  },
  {
   "cell_type": "markdown",
   "metadata": {},
   "source": [
    "FRom the scatter plot above we can see that lower rating products have higher sales ranking. Therefore we can conclude that sales ranking is not indicative of the popularity of the products."
   ]
  },
  {
   "cell_type": "code",
   "execution_count": 17,
   "metadata": {
    "collapsed": false
   },
   "outputs": [
    {
     "data": {
      "text/html": [
       "<div>\n",
       "<style>\n",
       "    .dataframe thead tr:only-child th {\n",
       "        text-align: right;\n",
       "    }\n",
       "\n",
       "    .dataframe thead th {\n",
       "        text-align: left;\n",
       "    }\n",
       "\n",
       "    .dataframe tbody tr th {\n",
       "        vertical-align: top;\n",
       "    }\n",
       "</style>\n",
       "<table border=\"1\" class=\"dataframe\">\n",
       "  <thead>\n",
       "    <tr style=\"text-align: right;\">\n",
       "      <th></th>\n",
       "      <th>rating</th>\n",
       "      <th>salesrank</th>\n",
       "    </tr>\n",
       "  </thead>\n",
       "  <tbody>\n",
       "    <tr>\n",
       "      <th>rating</th>\n",
       "      <td>1.000000</td>\n",
       "      <td>-0.017756</td>\n",
       "    </tr>\n",
       "    <tr>\n",
       "      <th>salesrank</th>\n",
       "      <td>-0.017756</td>\n",
       "      <td>1.000000</td>\n",
       "    </tr>\n",
       "  </tbody>\n",
       "</table>\n",
       "</div>"
      ],
      "text/plain": [
       "             rating  salesrank\n",
       "rating     1.000000  -0.017756\n",
       "salesrank -0.017756   1.000000"
      ]
     },
     "execution_count": 17,
     "metadata": {},
     "output_type": "execute_result"
    }
   ],
   "source": [
    "avg_rating.corr()"
   ]
  },
  {
   "cell_type": "code",
   "execution_count": 20,
   "metadata": {
    "collapsed": false
   },
   "outputs": [
    {
     "name": "stderr",
     "output_type": "stream",
     "text": [
      "/anaconda/lib/python3.6/site-packages/statsmodels/compat/pandas.py:56: FutureWarning: The pandas.core.datetools module is deprecated and will be removed in a future version. Please use the pandas.tseries module instead.\n",
      "  from pandas.core import datetools\n"
     ]
    }
   ],
   "source": [
    "import statsmodels.api as sm\n",
    "from statsmodels.formula.api import ols"
   ]
  },
  {
   "cell_type": "code",
   "execution_count": 21,
   "metadata": {
    "collapsed": false
   },
   "outputs": [
    {
     "name": "stdout",
     "output_type": "stream",
     "text": [
      "                            OLS Regression Results                            \n",
      "==============================================================================\n",
      "Dep. Variable:              salesrank   R-squared:                       0.000\n",
      "Model:                            OLS   Adj. R-squared:                  0.000\n",
      "Method:                 Least Squares   F-statistic:                     127.0\n",
      "Date:                Thu, 03 Aug 2017   Prob (F-statistic):           1.87e-29\n",
      "Time:                        15:35:35   Log-Likelihood:            -5.7680e+06\n",
      "No. Observations:              402724   AIC:                         1.154e+07\n",
      "Df Residuals:                  402722   BIC:                         1.154e+07\n",
      "Df Model:                           1                                         \n",
      "Covariance Type:            nonrobust                                         \n",
      "==============================================================================\n",
      "                 coef    std err          t      P>|t|      [0.025      0.975]\n",
      "------------------------------------------------------------------------------\n",
      "Intercept   3.945e+05   3777.820    104.412      0.000    3.87e+05    4.02e+05\n",
      "rating     -9733.0862    863.653    -11.270      0.000   -1.14e+04   -8040.353\n",
      "==============================================================================\n",
      "Omnibus:                   194271.501   Durbin-Watson:                   1.189\n",
      "Prob(Omnibus):                  0.000   Jarque-Bera (JB):          1330177.852\n",
      "Skew:                           2.241   Prob(JB):                         0.00\n",
      "Kurtosis:                      10.693   Cond. No.                         27.4\n",
      "==============================================================================\n",
      "\n",
      "Warnings:\n",
      "[1] Standard Errors assume that the covariance matrix of the errors is correctly specified.\n"
     ]
    }
   ],
   "source": [
    "m = ols('salesrank ~ rating', avg_rating).fit()\n",
    "print(m.summary())"
   ]
  },
  {
   "cell_type": "markdown",
   "metadata": {},
   "source": [
    "Consider the product group named 'Books'.\n",
    "a. Is there redundancy in the categorization? How can it be identified/removed?\n",
    "b. Is is possible to reduce the number of categories drastically (say to 10% of existing categories) by sacrificing relatively few category entries (say close to 10%)?"
   ]
  },
  {
   "cell_type": "code",
   "execution_count": 23,
   "metadata": {
    "collapsed": false
   },
   "outputs": [],
   "source": [
    "category = json_normalize(dict_all, 'cat_entries', \n",
    "                          ['ASIN','group','categories'])"
   ]
  },
  {
   "cell_type": "code",
   "execution_count": 24,
   "metadata": {
    "collapsed": false
   },
   "outputs": [
    {
     "data": {
      "text/html": [
       "<div>\n",
       "<style>\n",
       "    .dataframe thead tr:only-child th {\n",
       "        text-align: right;\n",
       "    }\n",
       "\n",
       "    .dataframe thead th {\n",
       "        text-align: left;\n",
       "    }\n",
       "\n",
       "    .dataframe tbody tr th {\n",
       "        vertical-align: top;\n",
       "    }\n",
       "</style>\n",
       "<table border=\"1\" class=\"dataframe\">\n",
       "  <thead>\n",
       "    <tr style=\"text-align: right;\">\n",
       "      <th></th>\n",
       "      <th>category</th>\n",
       "      <th>ASIN</th>\n",
       "      <th>group</th>\n",
       "      <th>categories</th>\n",
       "    </tr>\n",
       "  </thead>\n",
       "  <tbody>\n",
       "    <tr>\n",
       "      <th>0</th>\n",
       "      <td>|Books[283155]|Subjects[1000]|Religion&amp;Spiritu...</td>\n",
       "      <td>0827229534</td>\n",
       "      <td>Book</td>\n",
       "      <td>2</td>\n",
       "    </tr>\n",
       "    <tr>\n",
       "      <th>1</th>\n",
       "      <td>|Books[283155]|Subjects[1000]|Religion&amp;Spiritu...</td>\n",
       "      <td>0827229534</td>\n",
       "      <td>Book</td>\n",
       "      <td>2</td>\n",
       "    </tr>\n",
       "    <tr>\n",
       "      <th>2</th>\n",
       "      <td>|Books[283155]|Subjects[1000]|Religion&amp;Spiritu...</td>\n",
       "      <td>0738700797</td>\n",
       "      <td>Book</td>\n",
       "      <td>2</td>\n",
       "    </tr>\n",
       "    <tr>\n",
       "      <th>3</th>\n",
       "      <td>|Books[283155]|Subjects[1000]|Religion&amp;Spiritu...</td>\n",
       "      <td>0738700797</td>\n",
       "      <td>Book</td>\n",
       "      <td>2</td>\n",
       "    </tr>\n",
       "    <tr>\n",
       "      <th>4</th>\n",
       "      <td>|Books[283155]|Subjects[1000]|Home&amp;Garden[48]|...</td>\n",
       "      <td>0486287785</td>\n",
       "      <td>Book</td>\n",
       "      <td>1</td>\n",
       "    </tr>\n",
       "  </tbody>\n",
       "</table>\n",
       "</div>"
      ],
      "text/plain": [
       "                                            category         ASIN  group  \\\n",
       "0  |Books[283155]|Subjects[1000]|Religion&Spiritu...   0827229534   Book   \n",
       "1  |Books[283155]|Subjects[1000]|Religion&Spiritu...   0827229534   Book   \n",
       "2  |Books[283155]|Subjects[1000]|Religion&Spiritu...   0738700797   Book   \n",
       "3  |Books[283155]|Subjects[1000]|Religion&Spiritu...   0738700797   Book   \n",
       "4  |Books[283155]|Subjects[1000]|Home&Garden[48]|...   0486287785   Book   \n",
       "\n",
       "  categories  \n",
       "0          2  \n",
       "1          2  \n",
       "2          2  \n",
       "3          2  \n",
       "4          1  "
      ]
     },
     "execution_count": 24,
     "metadata": {},
     "output_type": "execute_result"
    }
   ],
   "source": [
    "category.head()"
   ]
  },
  {
   "cell_type": "code",
   "execution_count": 25,
   "metadata": {
    "collapsed": false
   },
   "outputs": [
    {
     "data": {
      "text/plain": [
       "array([' Book', ' Music', ' DVD', ' Video', ' Toy', ' Video Games',\n",
       "       ' Software', ' Baby Product', ' CE', ' Sports'], dtype=object)"
      ]
     },
     "execution_count": 25,
     "metadata": {},
     "output_type": "execute_result"
    }
   ],
   "source": [
    "category.group.unique()"
   ]
  },
  {
   "cell_type": "code",
   "execution_count": 26,
   "metadata": {
    "collapsed": true
   },
   "outputs": [],
   "source": [
    "category.group = category.group.astype(str)\n",
    "category.group = category.group.apply(lambda x: re.sub(' ','', x))"
   ]
  },
  {
   "cell_type": "code",
   "execution_count": 28,
   "metadata": {
    "collapsed": false
   },
   "outputs": [
    {
     "name": "stdout",
     "output_type": "stream",
     "text": [
      "<class 'pandas.core.frame.DataFrame'>\n",
      "Int64Index: 1440329 entries, 0 to 2509689\n",
      "Data columns (total 4 columns):\n",
      "category      1440329 non-null object\n",
      "ASIN          1440329 non-null object\n",
      "group         1440329 non-null object\n",
      "categories    1440329 non-null object\n",
      "dtypes: object(4)\n",
      "memory usage: 54.9+ MB\n"
     ]
    }
   ],
   "source": [
    "books_data = category.loc[category['group']==\"Book\",: ]\n",
    "books_data.info()"
   ]
  },
  {
   "cell_type": "code",
   "execution_count": 29,
   "metadata": {
    "collapsed": false
   },
   "outputs": [
    {
     "name": "stderr",
     "output_type": "stream",
     "text": [
      "/anaconda/lib/python3.6/site-packages/pandas/core/generic.py:3110: SettingWithCopyWarning: \n",
      "A value is trying to be set on a copy of a slice from a DataFrame.\n",
      "Try using .loc[row_indexer,col_indexer] = value instead\n",
      "\n",
      "See the caveats in the documentation: http://pandas.pydata.org/pandas-docs/stable/indexing.html#indexing-view-versus-copy\n",
      "  self[name] = value\n"
     ]
    },
    {
     "name": "stdout",
     "output_type": "stream",
     "text": [
      "Total products 375139\n",
      "Total categories 12849\n"
     ]
    }
   ],
   "source": [
    "books_data.category = books_data.category.astype(str)\n",
    "books_data.ASIN = books_data.ASIN.astype(str)\n",
    "books_data.categories = books_data.categories.astype(int)\n",
    "\n",
    "print('Total products',len(books_data.ASIN.unique()))\n",
    "print('Total categories', len(books_data.category.unique()))"
   ]
  },
  {
   "cell_type": "markdown",
   "metadata": {},
   "source": [
    "Since the number of categories account upto 4% of the total products. Redundant categoreis can be removed according to the representation of that category in the whole dataset."
   ]
  },
  {
   "cell_type": "code",
   "execution_count": 30,
   "metadata": {
    "collapsed": true
   },
   "outputs": [],
   "source": [
    "all_category = books_data.category.apply(\n",
    "                    lambda x: re.findall('[a-zA-Z]+',x))"
   ]
  },
  {
   "cell_type": "code",
   "execution_count": 31,
   "metadata": {
    "collapsed": false
   },
   "outputs": [
    {
     "data": {
      "text/plain": [
       "0    [Books, Subjects, Religion, Spirituality, Chri...\n",
       "1    [Books, Subjects, Religion, Spirituality, Chri...\n",
       "2    [Books, Subjects, Religion, Spirituality, Eart...\n",
       "3    [Books, Subjects, Religion, Spirituality, Eart...\n",
       "4    [Books, Subjects, Home, Garden, Crafts, Hobbie...\n",
       "Name: category, dtype: object"
      ]
     },
     "execution_count": 31,
     "metadata": {},
     "output_type": "execute_result"
    }
   ],
   "source": [
    "all_category[:5]"
   ]
  },
  {
   "cell_type": "code",
   "execution_count": 32,
   "metadata": {
    "collapsed": false
   },
   "outputs": [
    {
     "name": "stdout",
     "output_type": "stream",
     "text": [
      "Number of unique category names: 9118\n"
     ]
    }
   ],
   "source": [
    "L = all_category.as_matrix()\n",
    "catNames = [item for sublist in L for item in sublist]\n",
    "n_catNames = len(set(catNames))\n",
    "print(\"Number of unique category names:\" , n_catNames)"
   ]
  },
  {
   "cell_type": "code",
   "execution_count": 33,
   "metadata": {
    "collapsed": false
   },
   "outputs": [
    {
     "data": {
      "text/html": [
       "<div>\n",
       "<style>\n",
       "    .dataframe thead tr:only-child th {\n",
       "        text-align: right;\n",
       "    }\n",
       "\n",
       "    .dataframe thead th {\n",
       "        text-align: left;\n",
       "    }\n",
       "\n",
       "    .dataframe tbody tr th {\n",
       "        vertical-align: top;\n",
       "    }\n",
       "</style>\n",
       "<table border=\"1\" class=\"dataframe\">\n",
       "  <thead>\n",
       "    <tr style=\"text-align: right;\">\n",
       "      <th></th>\n",
       "      <th>Level_1</th>\n",
       "      <th>Level_2</th>\n",
       "      <th>Level_no1</th>\n",
       "      <th>Level_no2</th>\n",
       "      <th>Original</th>\n",
       "    </tr>\n",
       "  </thead>\n",
       "  <tbody>\n",
       "    <tr>\n",
       "      <th>0</th>\n",
       "      <td>Preaching</td>\n",
       "      <td>Clergy</td>\n",
       "      <td>Books_Subjects_Religion_Spirituality_Christian...</td>\n",
       "      <td>Books_Subjects_Religion_Spirituality_Christianity</td>\n",
       "      <td>Books_Subjects_Religion_Spirituality_Christian...</td>\n",
       "    </tr>\n",
       "    <tr>\n",
       "      <th>1</th>\n",
       "      <td>Sermons</td>\n",
       "      <td>Clergy</td>\n",
       "      <td>Books_Subjects_Religion_Spirituality_Christian...</td>\n",
       "      <td>Books_Subjects_Religion_Spirituality_Christianity</td>\n",
       "      <td>Books_Subjects_Religion_Spirituality_Christian...</td>\n",
       "    </tr>\n",
       "    <tr>\n",
       "      <th>2</th>\n",
       "      <td>Wicca</td>\n",
       "      <td>BasedReligions</td>\n",
       "      <td>Books_Subjects_Religion_Spirituality_Earth_Bas...</td>\n",
       "      <td>Books_Subjects_Religion_Spirituality_Earth</td>\n",
       "      <td>Books_Subjects_Religion_Spirituality_Earth_Bas...</td>\n",
       "    </tr>\n",
       "    <tr>\n",
       "      <th>3</th>\n",
       "      <td>Witchcraft</td>\n",
       "      <td>BasedReligions</td>\n",
       "      <td>Books_Subjects_Religion_Spirituality_Earth_Bas...</td>\n",
       "      <td>Books_Subjects_Religion_Spirituality_Earth</td>\n",
       "      <td>Books_Subjects_Religion_Spirituality_Earth_Bas...</td>\n",
       "    </tr>\n",
       "    <tr>\n",
       "      <th>4</th>\n",
       "      <td>General</td>\n",
       "      <td>Hobbies</td>\n",
       "      <td>Books_Subjects_Home_Garden_Crafts_Hobbies</td>\n",
       "      <td>Books_Subjects_Home_Garden_Crafts</td>\n",
       "      <td>Books_Subjects_Home_Garden_Crafts_Hobbies_General</td>\n",
       "    </tr>\n",
       "  </tbody>\n",
       "</table>\n",
       "</div>"
      ],
      "text/plain": [
       "      Level_1         Level_2  \\\n",
       "0   Preaching          Clergy   \n",
       "1     Sermons          Clergy   \n",
       "2       Wicca  BasedReligions   \n",
       "3  Witchcraft  BasedReligions   \n",
       "4     General         Hobbies   \n",
       "\n",
       "                                           Level_no1  \\\n",
       "0  Books_Subjects_Religion_Spirituality_Christian...   \n",
       "1  Books_Subjects_Religion_Spirituality_Christian...   \n",
       "2  Books_Subjects_Religion_Spirituality_Earth_Bas...   \n",
       "3  Books_Subjects_Religion_Spirituality_Earth_Bas...   \n",
       "4          Books_Subjects_Home_Garden_Crafts_Hobbies   \n",
       "\n",
       "                                           Level_no2  \\\n",
       "0  Books_Subjects_Religion_Spirituality_Christianity   \n",
       "1  Books_Subjects_Religion_Spirituality_Christianity   \n",
       "2         Books_Subjects_Religion_Spirituality_Earth   \n",
       "3         Books_Subjects_Religion_Spirituality_Earth   \n",
       "4                  Books_Subjects_Home_Garden_Crafts   \n",
       "\n",
       "                                            Original  \n",
       "0  Books_Subjects_Religion_Spirituality_Christian...  \n",
       "1  Books_Subjects_Religion_Spirituality_Christian...  \n",
       "2  Books_Subjects_Religion_Spirituality_Earth_Bas...  \n",
       "3  Books_Subjects_Religion_Spirituality_Earth_Bas...  \n",
       "4  Books_Subjects_Home_Garden_Crafts_Hobbies_General  "
      ]
     },
     "execution_count": 33,
     "metadata": {},
     "output_type": "execute_result"
    }
   ],
   "source": [
    "new_category =pd.DataFrame({'Original': all_category.apply(lambda x: '_'.join(x)),\n",
    "                        'Level_1': all_category.apply(lambda x: x[-1]),\n",
    "                        'Level_2': all_category.apply(lambda x: x[-2]),\n",
    "                        'Level_no1': all_category.apply(lambda x: '_'.join(x[:-1])),\n",
    "                        'Level_no2': all_category.apply(lambda x: '_'.join(x[:-2]))\n",
    "                       }, dtype = str) \n",
    "new_category.head()"
   ]
  },
  {
   "cell_type": "code",
   "execution_count": 44,
   "metadata": {
    "collapsed": false
   },
   "outputs": [
    {
     "data": {
      "text/plain": [
       "Level_no1\n",
       "Books_Subjects_Reference_Dictionaries_Thesauruses_ForeignLanguage                               52\n",
       "Books_Subjects_Home_Garden_Crafts_Hobbies                                                       49\n",
       "Books_Formats_SheetMusic_Scores_Composers                                                       43\n",
       "Books_Subjects_Health_Mind_Body_Disorders_Diseases                                              41\n",
       "Books_Subjects_History_Africa                                                                   40\n",
       "Books_Subjects_History_Europe                                                                   40\n",
       "Books_Subjects_History_Americas_UnitedStates_State_Local_ByState                                36\n",
       "Books_Subjects_Home_Garden_Antiques_Collectibles                                                34\n",
       "Books_Subjects_Travel_GuidebookSeries                                                           30\n",
       "Amazon_comStores_Travel_Categories_TravelBooks_GuidebookSeries                                  30\n",
       "Books_Subjects_Children_sBooks_Religions_Christianity_Series                                    28\n",
       "Books_Subjects_History_Asia                                                                     26\n",
       "Books_Subjects_Reference_ForeignLanguages_Instruction                                           26\n",
       "Books_Subjects_Computers_Internet_CertificationCentral_Subjects                                 24\n",
       "Books_Subjects_Children_sBooks_PopularCharacters_BookCharacters                                 24\n",
       "Books_Subjects_Home_Garden_ExpertAdvice                                                         24\n",
       "Books_Subjects_Professional_Technical_Medical_VeterinaryMedicine                                23\n",
       "Amazon_comStores_Travel_Categories_TravelBooks_SpecialtyTravel_Adventure_Hiking_UnitedStates    22\n",
       "Books_Subjects_Children_sBooks_Series_Fantasy_Adventure                                         22\n",
       "Books_Subjects_Outdoors_Nature_Hiking_Camping_ExcursionGuides_UnitedStates                      22\n",
       "Books_Subjects_Teens_Series                                                                     22\n",
       "Books_Subjects_Health_Mind_Body_Psychology_Counseling                                           21\n",
       "Books_Subjects_Arts_Photography_Art_ArtHistory_Schools_Periods_Styles                           21\n",
       "Books_Subjects_Computers_Internet_Programming_Languages_Tools                                   21\n",
       "Books_Subjects_Home_Garden_Gardening_Horticulture_ByPlant                                       21\n",
       "Amazon_comStores_Travel_Categories_TravelBooks_Asia                                             20\n",
       "Books_Subjects_Religion_Spirituality_Christianity_Theology                                      20\n",
       "Books_Subjects_Computers_Internet_CertificationCentral_Exams                                    20\n",
       "Books_Subjects_Travel_Asia                                                                      20\n",
       "Books_Subjects_Travel_Africa                                                                    19\n",
       "                                                                                                ..\n",
       "Books_Subjects_Literature_Fiction_WorldLiterature_UnitedStates_AfricanAmerican_Kenan             1\n",
       "Books_Subjects_Literature_Fiction_WorldLiterature_UnitedStates_AfricanAmerican_Kennedy           1\n",
       "Books_Subjects_Literature_Fiction_WorldLiterature_UnitedStates_AfricanAmerican_Kincaid           1\n",
       "Books_Subjects_Literature_Fiction_WorldLiterature_UnitedStates_AfricanAmerican_Komunyakaa        1\n",
       "Books_Subjects_Literature_Fiction_WorldLiterature_UnitedStates_AfricanAmerican_Larsen            1\n",
       "Books_Subjects_Literature_Fiction_WorldLiterature_UnitedStates_AfricanAmerican_Major             1\n",
       "Books_Subjects_Literature_Fiction_WorldLiterature_UnitedStates_AfricanAmerican_Marshall          1\n",
       "Books_Subjects_Literature_Fiction_WorldLiterature_UnitedStates_AfricanAmerican_Gates             1\n",
       "Books_Subjects_Literature_Fiction_WorldLiterature_UnitedStates_AfricanAmerican_Ellison           1\n",
       "Books_Subjects_Literature_Fiction_WorldLiterature_UnitedStates_AfricanAmerican_Angelou           1\n",
       "Books_Subjects_Literature_Fiction_WorldLiterature_UnitedStates_AfricanAmerican_Carter            1\n",
       "Books_Subjects_Literature_Fiction_WorldLiterature_UnitedStates_AfricanAmerican_Baldwin           1\n",
       "Books_Subjects_Literature_Fiction_WorldLiterature_UnitedStates_AfricanAmerican_Bambara           1\n",
       "Books_Subjects_Literature_Fiction_WorldLiterature_UnitedStates_AfricanAmerican_Baraka            1\n",
       "Books_Subjects_Literature_Fiction_WorldLiterature_UnitedStates_AfricanAmerican_Beatty            1\n",
       "Books_Subjects_Literature_Fiction_WorldLiterature_UnitedStates_AfricanAmerican_Briscoe           1\n",
       "Books_Subjects_Literature_Fiction_WorldLiterature_UnitedStates_AfricanAmerican_Brooks            1\n",
       "Books_Subjects_Literature_Fiction_WorldLiterature_UnitedStates_AfricanAmerican_Butler            1\n",
       "Books_Subjects_Literature_Fiction_WorldLiterature_UnitedStates_AfricanAmerican_Campbell          1\n",
       "Books_Subjects_Literature_Fiction_WorldLiterature_UnitedStates_AfricanAmerican_Cleage            1\n",
       "Books_Subjects_Literature_Fiction_WorldLiterature_UnitedStates_AfricanAmerican_Dunbar            1\n",
       "Books_Subjects_Literature_Fiction_WorldLiterature_UnitedStates_AfricanAmerican_Clifton           1\n",
       "Books_Subjects_Literature_Fiction_WorldLiterature_UnitedStates_AfricanAmerican_Coleman           1\n",
       "Books_Subjects_Literature_Fiction_WorldLiterature_UnitedStates_AfricanAmerican_Cullen            1\n",
       "Books_Subjects_Literature_Fiction_WorldLiterature_UnitedStates_AfricanAmerican_Danticat          1\n",
       "Books_Subjects_Literature_Fiction_WorldLiterature_UnitedStates_AfricanAmerican_Dickey            1\n",
       "Books_Subjects_Literature_Fiction_WorldLiterature_UnitedStates_AfricanAmerican_Douglass          1\n",
       "Books_Subjects_Literature_Fiction_WorldLiterature_UnitedStates_AfricanAmerican_Dove              1\n",
       "Books_Subjects_Literature_Fiction_WorldLiterature_UnitedStates_AfricanAmerican_Dubois_W_E        1\n",
       "Books_Subjects_Literature_Fiction_Authors_A_Z_B_Burnard                                          1\n",
       "Length: 6433, dtype: int64"
      ]
     },
     "execution_count": 44,
     "metadata": {},
     "output_type": "execute_result"
    }
   ],
   "source": [
    "size_rest = new_category.drop_duplicates(\n",
    "                                    subset='Original').groupby('Level_no1').size(\n",
    "                ).sort_values(ascending = False)\n",
    "size_rest"
   ]
  },
  {
   "cell_type": "code",
   "execution_count": 46,
   "metadata": {
    "collapsed": false
   },
   "outputs": [
    {
     "data": {
      "image/png": "[encoded data removed]",
      "text/plain": [
       "<matplotlib.figure.Figure at 0x31c42ada0>"
      ]
     },
     "metadata": {},
     "output_type": "display_data"
    }
   ],
   "source": [
    "plt.figure(figsize=(12,8))\n",
    "plt.hist(size_rest, 1000) # set 1000 bins\n",
    "plt.xlabel('Number of sub_categories per unique original category entry')\n",
    "plt.ylabel('Frequency')\n",
    "plt.show()"
   ]
  },
  {
   "cell_type": "markdown",
   "metadata": {},
   "source": [
    "When one sub category per category entry is there, we can remove that sub-category."
   ]
  },
  {
   "cell_type": "code",
   "execution_count": 36,
   "metadata": {
    "collapsed": false
   },
   "outputs": [
    {
     "name": "stdout",
     "output_type": "stream",
     "text": [
      "The number of categories with one sub-category: 4876\n",
      "\n",
      "The original unique category entries: 12786\n"
     ]
    }
   ],
   "source": [
    "n_original = len(new_category.Original.unique())\n",
    "print('The number of categories with one sub-category:',\n",
    " sum(size_rest<2))\n",
    "print('\\nThe original unique category entries:' , n_original)"
   ]
  },
  {
   "cell_type": "markdown",
   "metadata": {},
   "source": [
    "4876 is 53% of the unique category names. So if we remove it, the number of unique category entries remain the same."
   ]
  },
  {
   "cell_type": "code",
   "execution_count": 38,
   "metadata": {
    "collapsed": false
   },
   "outputs": [
    {
     "data": {
      "text/plain": [
       "Level_no2\n",
       "Amazon_comStores_Home_Office_Business                                                             18438\n",
       "Books_Subjects_Business                                                                           18436\n",
       "Books_Subjects_Computers                                                                           8660\n",
       "Books_SpecialtyStores                                                                              7896\n",
       "Books_Subjects_Computers_Internet                                                                  5201\n",
       "Books_Subjects_Children_sBooks_Literature                                                          4097\n",
       "Books_Subjects_Nonfiction_Politics                                                                 3413\n",
       "Books_Subjects_History_Americas_UnitedStates                                                       3392\n",
       "Books_Subjects_Children_sBooks_Literature_ScienceFiction_Fantasy_Mystery_Horror_ScienceFiction     3286\n",
       "Books_Subjects_Religion_Spirituality_Christianity_Reference                                        3214\n",
       "Books_Subjects_Nonfiction_Philosophy                                                               2963\n",
       "Books_Subjects_Literature_Fiction_WorldLiterature_UnitedStates                                     2862\n",
       "Books_Subjects                                                                                     2775\n",
       "Books_Subjects_Business_Investing_Economics                                                        2604\n",
       "Books_Subjects_Nonfiction_SocialSciences                                                           2600\n",
       "Amazon_comStores_Home_Office_Business_InvestingBooks_Economics                                     2554\n",
       "Books_Subjects_Professional_Technical_Accounting_Finance                                           2445\n",
       "Books_Subjects_Entertainment_Music                                                                 2122\n",
       "Books_Subjects_Arts_Photography_Artists_A                                                          2107\n",
       "Books_Subjects_Business_Investing_Industries_Professions                                           2096\n",
       "Books_Subjects_Religion_Spirituality_Christianity_Bibles_StudyGuides_History                       2067\n",
       "Books_Subjects_Literature_Fiction_GenreFiction                                                     2065\n",
       "Books_Subjects_Entertainment_Movies                                                                2016\n",
       "Books_Subjects_Religion                                                                            1994\n",
       "Amazon_comStores_Home_Office_Business_InvestingBooks_Industries_Professions                        1842\n",
       "Books_Subjects_Children_sBooks_Literature_ScienceFiction_Fantasy_Mystery_Horror                    1796\n",
       "Amazon_comStores_Home_Office_Business_InvestingBooks_Finance                                       1674\n",
       "Books_Subjects_Children_sBooks_Literature_ScienceFiction_Fantasy_Mystery_Horror_Mysteries          1657\n",
       "Books_Subjects_Comics                                                                              1646\n",
       "Books_Subjects_Medicine_Specialties                                                                1644\n",
       "                                                                                                  ...  \n",
       "Books_Formats_BooksonCD_Authors_A_Z_G_Griffin_W                                                       1\n",
       "Music_Styles_Classical                                                                                1\n",
       "Music_Styles_Classical_FeaturedComposers_A_Z                                                          1\n",
       "Music_Styles_Classical_FeaturedComposers_A_Z_B_Bart_k_B                                               1\n",
       "Music_Styles_Classical_FeaturedComposers_A_Z_B_Berlioz                                                1\n",
       "Music_Styles_Classical_FeaturedComposers_A_Z_B_Borodin                                                1\n",
       "Music_Styles_Classical_FeaturedComposers_A_Z_B_Boulez                                                 1\n",
       "Music_Styles_Classical_FeaturedComposers_A_Z_B_Brahms                                                 1\n",
       "Music_Styles_Classical_FeaturedComposers_A_Z_B_Britten                                                1\n",
       "Books_Formats_BooksonCD_Authors_A_Z_W                                                                 1\n",
       "DVD_Actors_Actresses_H                                                                                1\n",
       "DVD_Actors_Actresses_C                                                                                1\n",
       "Books_Subjects_Romance_Authors_A                                                                      1\n",
       "Books_Subjects_Mystery_Thrillers_Authors_A_Z_L_Lake                                                   1\n",
       "Books_Subjects_Mystery_Thrillers_Authors_A_Z_T_Thomas                                                 1\n",
       "Books_Formats_BooksonTape_Authors_A_Z_L_Lawrence                                                      1\n",
       "Books_Subjects_Professional_Technical_Architecture_Architects_A_Z_Pugin_A                             1\n",
       "Books_Subjects_Professional_Technical_Law_One_L                                                       1\n",
       "Books_Subjects_Reference_Genealogy                                                                    1\n",
       "Books_Subjects_Religion_Spirituality_Authors_A_Z_O_O                                                  1\n",
       "Books_Subjects_ScienceFiction_Fantasy_Authors_A_Z_B_Bacon                                             1\n",
       "DVD_Actors                                                                                            1\n",
       "Books_Subjects_ScienceFiction_Fantasy_Authors_A_Z_D_Douglas                                           1\n",
       "Books_Subjects_ScienceFiction_Fantasy_Authors_A_Z_M_MacAvoy                                           1\n",
       "Books_Subjects_ScienceFiction_Fantasy_Media                                                           1\n",
       "Books_Formats_BooksonTape_Authors_A_Z_B_Byatt                                                         1\n",
       "Books_Subjects_Teens_Authors                                                                          1\n",
       "Books_Formats_BooksonTape_Authors_A                                                                   1\n",
       "Books_Subjects_Teens_SocialIssues                                                                     1\n",
       "DVD_Genres_Comedy                                                                                     1\n",
       "Length: 1390, dtype: int64"
      ]
     },
     "execution_count": 38,
     "metadata": {},
     "output_type": "execute_result"
    }
   ],
   "source": [
    "size_rest_sub = new_category.loc[new_category.Level_no1.isin(size_rest.index.values[size_rest==1]), :].groupby(\n",
    "    'Level_no2').size().sort_values(ascending = False)\n",
    "size_rest_sub"
   ]
  },
  {
   "cell_type": "code",
   "execution_count": 39,
   "metadata": {
    "collapsed": false
   },
   "outputs": [
    {
     "name": "stdout",
     "output_type": "stream",
     "text": [
      "The number of categories with one sub-category in the last two layers: 155\n"
     ]
    }
   ],
   "source": [
    "print('The number of categories with one sub-category in the last two layers:',\n",
    " sum(size_rest_sub == 1))"
   ]
  },
  {
   "cell_type": "markdown",
   "metadata": {},
   "source": [
    "Together it becomes 5031(4876+155) which is 55%of the unique category names."
   ]
  },
  {
   "cell_type": "code",
   "execution_count": 40,
   "metadata": {
    "collapsed": false
   },
   "outputs": [
    {
     "name": "stdout",
     "output_type": "stream",
     "text": [
      "The number of categories with two sub-category: 461\n"
     ]
    }
   ],
   "source": [
    "print('The number of categories with two sub-category:',\n",
    " sum(size_rest == 2))"
   ]
  },
  {
   "cell_type": "code",
   "execution_count": 41,
   "metadata": {
    "collapsed": false
   },
   "outputs": [
    {
     "name": "stdout",
     "output_type": "stream",
     "text": [
      "12786\n"
     ]
    },
    {
     "data": {
      "text/plain": [
       "9118"
      ]
     },
     "execution_count": 41,
     "metadata": {},
     "output_type": "execute_result"
    }
   ],
   "source": [
    "print(n_original)\n",
    "n_catNames"
   ]
  },
  {
   "cell_type": "markdown",
   "metadata": {},
   "source": [
    "Now the total will be 4876+155+461*2 = 5953(65% unique category names). The number of unique category entries now reduces by 461, or 3.6%."
   ]
  },
  {
   "cell_type": "code",
   "execution_count": 42,
   "metadata": {
    "collapsed": false
   },
   "outputs": [
    {
     "name": "stdout",
     "output_type": "stream",
     "text": [
      "The number of categories with two sub-category second to last category: 62\n"
     ]
    }
   ],
   "source": [
    "print('The number of categories with two sub-category second to last category:',\n",
    " sum(size_rest_sub == 2))"
   ]
  },
  {
   "cell_type": "markdown",
   "metadata": {},
   "source": [
    "Total is: 4876 + 155 + 461 *2 + 62 * 2 = 6077 categories (67% of unique category names), the number of unique category entries reduces by 461 + 62, or 4.1%.\n",
    "And we can continue this on and on until 90% of categories are removed with less than 10% of category entries lost."
   ]
  },
  {
   "cell_type": "code",
   "execution_count": 43,
   "metadata": {
    "collapsed": false
   },
   "outputs": [
    {
     "name": "stdout",
     "output_type": "stream",
     "text": [
      "The number of categories with three sub-category : 319\n"
     ]
    }
   ],
   "source": [
    "print('The number of categories with three sub-category :',\n",
    " sum(size_rest == 3))"
   ]
  },
  {
   "cell_type": "markdown",
   "metadata": {},
   "source": [
    "Now the total is : 4876 + 155 + 461*2 + 62*2 + 319*3 = 7034 categories (77% of unique category names), the number of unique category entries reduces by 461 + 62 + 319*2 = 1161, or 9%.\n",
    "\n",
    "To remove closer to 90% of the entries you have to get rid of about 25% of the categories."
   ]
  },
  {
   "cell_type": "markdown",
   "metadata": {},
   "source": [
    "a. Is it a good idea to show users the categorization hierarchy for items? I don't think it's necessary to give the users the categorization hierarchy and therefore wouldn't day it's a good idea.\n",
    "\n",
    "b. Is it a good idea to show users similar/co-purchased items? Yes. I think it's always good to show similiar items since it gives the user more choice and also more felxibility.\n",
    "\n",
    "c. Is it a good idea to show users reviews and ratings for items? Yes. I think it's a good idea to show users reviews and ratings to better help them make a purchase according to their choice and need.\n",
    "\n",
    "d. For each of the above, why? How will you establish the same? We can do a A/B testing to see what works and what doesn't and finally implement that."
   ]
  }
 ],
 "metadata": {
  "kernelspec": {
   "display_name": "Python 3",
   "language": "python",
   "name": "python3"
  },
  "language_info": {
   "codemirror_mode": {
    "name": "ipython",
    "version": 3
   },
   "file_extension": ".py",
   "mimetype": "text/x-python",
   "name": "python",
   "nbconvert_exporter": "python",
   "pygments_lexer": "ipython3",
   "version": "3.6.1"
  }
 },
 "nbformat": 4,
 "nbformat_minor": 2
}
